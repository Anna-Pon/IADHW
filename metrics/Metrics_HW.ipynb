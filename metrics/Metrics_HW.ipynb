{
  "nbformat": 4,
  "nbformat_minor": 0,
  "metadata": {
    "colab": {
      "name": "Metrics HW.ipynb",
      "provenance": [],
      "collapsed_sections": []
    },
    "kernelspec": {
      "name": "python383jvsc74a57bd079876d1b92d4aa875fabca2bab96e83d78f9ef667394151d00e2623b6fe45132",
      "display_name": "Python 3.8.3 64-bit ('base': conda)"
    },
    "language_info": {
      "codemirror_mode": {
        "name": "ipython",
        "version": 3
      },
      "file_extension": ".py",
      "mimetype": "text/x-python",
      "name": "python",
      "nbconvert_exporter": "python",
      "pygments_lexer": "ipython3",
      "version": "3.8.3"
    }
  },
  "cells": [
    {
      "cell_type": "markdown",
      "metadata": {
        "id": "sdwwxjAQFXfw"
      },
      "source": [
        "<h1>ДЗ по эконометрике!</h1>\n",
        "<h2>Скворцов Иван, Анна Пономаренко, БЭК-181</h2>"
      ]
    },
    {
      "cell_type": "code",
      "metadata": {
        "id": "37r09zfzFXgE"
      },
      "source": [
        "import pandas as pd\n",
        "import numpy as np\n",
        "import matplotlib.pyplot as plt"
      ],
      "execution_count": null,
      "outputs": []
    },
    {
      "cell_type": "markdown",
      "metadata": {
        "id": "CL4IbYsbH_EW"
      },
      "source": [
        "# Временной ряд с месячной частотой\n",
        "\n",
        "## Взять языка\n",
        "\n"
      ]
    },
    {
      "cell_type": "markdown",
      "metadata": {
        "id": "BwagRRbR7i9_"
      },
      "source": [
        "Временной ряд взят [отсюда](https://www.kaggle.com/piyushagni5/monthly-sales-of-french-champagne)."
      ]
    },
    {
      "cell_type": "code",
      "metadata": {
        "id": "kCsOPjrAgs62"
      },
      "source": [
        "# считаем файлы\n",
        "ts = pd.read_csv('monthly_champagne_sales.csv')"
      ],
      "execution_count": null,
      "outputs": []
    },
    {
      "cell_type": "code",
      "metadata": {
        "id": "hEGu7XPikV1p"
      },
      "source": [
        "ts['Month'] = pd.to_datetime(ts['Month'], format = '%Y-%m')"
      ],
      "execution_count": null,
      "outputs": []
    },
    {
      "cell_type": "code",
      "metadata": {
        "id": "GiPp3c-jkerb"
      },
      "source": [
        "ts.set_index('Month', inplace = True)"
      ],
      "execution_count": null,
      "outputs": []
    },
    {
      "cell_type": "code",
      "metadata": {
        "id": "DXOTU4TlkefM"
      },
      "source": [
        "ts.index = ts.index.to_period(\"M\") # говорим что индекс у нас с месячной частотой"
      ],
      "execution_count": null,
      "outputs": []
    },
    {
      "cell_type": "markdown",
      "metadata": {
        "id": "VGQzSZqFkW9D"
      },
      "source": [
        "## Намалевич\n",
        "\n",
        "Сначала сам ряд. Просто и лаконично. И легко дышится."
      ]
    },
    {
      "cell_type": "code",
      "metadata": {
        "colab": {
          "base_uri": "https://localhost:8080/",
          "height": 620
        },
        "id": "0-9uZCWlllxx",
        "outputId": "cc8878e2-064b-482e-d28f-8962a1cb7e51"
      },
      "source": [
        "fig, ax = plt.subplots(1, figsize = (20, 10))\n",
        "\n",
        "ts.plot(ax = ax)\n",
        "ax.set(title = 'Champagne sales per month', xlabel = 'Date', ylabel = 'Sales')\n",
        "\n",
        "plt.show()"
      ],
      "execution_count": null,
      "outputs": []
    },
    {
      "cell_type": "markdown",
      "metadata": {
        "id": "-bok7wj-IhC_"
      },
      "source": [
        "Теперь автокорреляцию. Схватим очевидную сезонность."
      ]
    },
    {
      "cell_type": "code",
      "metadata": {
        "id": "-Emqsl0qImhm",
        "colab": {
          "base_uri": "https://localhost:8080/",
          "height": 280
        },
        "outputId": "3c0a60ca-c56c-4d71-bbb5-7816bb272412"
      },
      "source": [
        "from statsmodels.graphics import tsaplots\n",
        "\n",
        "fig = tsaplots.plot_acf(ts[\"Sales\"], lags=20)\n",
        "plt.show()"
      ],
      "execution_count": null,
      "outputs": []
    },
    {
      "cell_type": "markdown",
      "metadata": {
        "id": "rn3ry5P3IqxC"
      },
      "source": [
        "Ну и наконец построим ряд с наложением."
      ]
    },
    {
      "cell_type": "code",
      "metadata": {
        "colab": {
          "base_uri": "https://localhost:8080/",
          "height": 590
        },
        "id": "O94aHYnTIuy_",
        "outputId": "db855458-9020-4140-dab1-289f948e3180"
      },
      "source": [
        "fig, ax = plt.subplots(1, figsize = (20, 10))\n",
        "\n",
        "ax.plot(ts.index.month, ts.Sales, 'o', color = 'lightcoral', alpha = .8)\n",
        "ax.set_xticks([i for i in range(1, 13)])\n",
        "\n",
        "plt.show()"
      ],
      "execution_count": null,
      "outputs": []
    },
    {
      "cell_type": "markdown",
      "metadata": {
        "id": "I1GbTITVJ1Qo"
      },
      "source": [
        "## Твиттер\n",
        "\n",
        "Выбранный ряд явно сезонный: это видно на всех графиках, которые мы привели ☺️. Тренд если и наблюдается, то довольно незначительный; при этом ряд не стационарен: разброс его значений непостоянен. Логарифм брать не будем, поскольку это ничего особо не меняет. "
      ]
    },
    {
      "cell_type": "markdown",
      "metadata": {
        "id": "ERUww0kkKjB9"
      },
      "source": [
        "## Двенадцать месяцев"
      ]
    },
    {
      "cell_type": "markdown",
      "metadata": {
        "id": "gJIMqjwEPVQF"
      },
      "source": [
        "Трейнтестим!"
      ]
    },
    {
      "cell_type": "code",
      "metadata": {
        "id": "yC2i0QJGPXCf",
        "colab": {
          "base_uri": "https://localhost:8080/"
        },
        "outputId": "1e83a35c-741b-40cc-8c9d-3716980e86ca"
      },
      "source": [
        "ts_train = ts.iloc[0:int(0.89 * ts.shape[0]), :]\n",
        "ts_test = ts.iloc[int(0.89 * ts.shape[0]):, :]\n",
        "\n",
        "print(f'Месяцев в тестовой выборке: {ts_test.shape[0]}')"
      ],
      "execution_count": null,
      "outputs": []
    },
    {
      "cell_type": "code",
      "metadata": {
        "colab": {
          "base_uri": "https://localhost:8080/",
          "height": 620
        },
        "id": "A81MMAigPXYy",
        "outputId": "952bda0e-290e-4d85-f79e-ecb8176ea00f"
      },
      "source": [
        "fig, ax = plt.subplots(1, figsize = (20, 10))\n",
        "\n",
        "ts_train.plot(ax = ax)\n",
        "ts_test.plot(ax = ax, color = 'orange')\n",
        "ax.set(title = 'Champagne sales per month', xlabel = 'Date', ylabel = 'Sales')\n",
        "\n",
        "plt.show()"
      ],
      "execution_count": null,
      "outputs": []
    },
    {
      "cell_type": "code",
      "metadata": {
        "id": "_IoFNGRekGUB"
      },
      "source": [
        "from sktime.forecasting.naive import NaiveForecaster\n",
        "from sktime.forecasting.base import ForecastingHorizon\n",
        "from sktime.forecasting.arima import ARIMA, AutoARIMA\n",
        "from sktime.forecasting.exp_smoothing import ExponentialSmoothing\n",
        "from sktime.forecasting.ets import AutoETS\n",
        "from sktime.performance_metrics.forecasting import MeanAbsoluteError\n",
        "\n",
        "mae = MeanAbsoluteError() # y_true, y_pred"
      ],
      "execution_count": null,
      "outputs": []
    },
    {
      "cell_type": "markdown",
      "metadata": {
        "id": "ci4W6dmXY15L"
      },
      "source": [
        "### Наивная"
      ]
    },
    {
      "cell_type": "code",
      "metadata": {
        "colab": {
          "base_uri": "https://localhost:8080/"
        },
        "id": "3IU92D5WPsNF",
        "outputId": "07be130e-9f38-4f49-e97c-d2bfcbcf714f"
      },
      "source": [
        "nfc = NaiveForecaster(strategy='last')\n",
        "nfc.fit(ts_train['Sales'])"
      ],
      "execution_count": null,
      "outputs": []
    },
    {
      "cell_type": "code",
      "metadata": {
        "id": "RlRBmDJdWmjH"
      },
      "source": [
        "fh = ForecastingHorizon(ts_test.index, is_relative=False)"
      ],
      "execution_count": null,
      "outputs": []
    },
    {
      "cell_type": "code",
      "metadata": {
        "id": "AwO7L8hyW2bx"
      },
      "source": [
        "def plot_fc(y_train, y_test, fc):\n",
        "\n",
        "  err = np.round(mae(y_test, fc), 2)\n",
        "\n",
        "  fig, ax = plt.subplots(1, figsize = (20, 10))\n",
        "\n",
        "  y_train.plot(ax = ax, color = 'cornflowerblue', label = 'Train', linewidth = 1.7)\n",
        "  y_test.plot(ax = ax, color = 'sandybrown', label = 'Test', linewidth = 1.7)\n",
        "  fc.plot(ax = ax, color = 'mediumseagreen', linestyle = 'dashed', label = 'Forecast', linewidth = 1.7)\n",
        "\n",
        "  ax.set(title = '', xlabel = 'Date', ylabel = 'Value')\n",
        "  ax.text(0.013, 0.95, f'MAE: {err}', fontsize = 24, horizontalalignment='left', verticalalignment='center', transform = ax.transAxes)\n",
        "\n",
        "  plt.legend()\n",
        "  plt.show()"
      ],
      "execution_count": null,
      "outputs": []
    },
    {
      "cell_type": "code",
      "metadata": {
        "colab": {
          "base_uri": "https://localhost:8080/",
          "height": 604
        },
        "id": "fVbcXVmKXYLX",
        "outputId": "8282e6a9-88c6-4aa7-ab6b-18c01fb8d376"
      },
      "source": [
        "plot_fc(ts_train['Sales'], ts_test['Sales'], nfc.predict(fh))"
      ],
      "execution_count": null,
      "outputs": []
    },
    {
      "cell_type": "markdown",
      "metadata": {
        "id": "xlxOuC74Y6T0"
      },
      "source": [
        "### Сезонная наивная"
      ]
    },
    {
      "cell_type": "code",
      "metadata": {
        "id": "lIY27O9xY8dq"
      },
      "source": [
        "nfc = NaiveForecaster(strategy='last', sp = 12)\n",
        "nfc.fit(ts_train['Sales'])\n",
        "fh = ForecastingHorizon(ts_test.index, is_relative=False)"
      ],
      "execution_count": null,
      "outputs": []
    },
    {
      "cell_type": "code",
      "metadata": {
        "colab": {
          "base_uri": "https://localhost:8080/",
          "height": 604
        },
        "id": "SQOUbwz3ZASG",
        "outputId": "789e5cdb-8bd3-447a-8b90-d2a7781c5e8e"
      },
      "source": [
        "plot_fc(ts_train['Sales'], ts_test['Sales'], nfc.predict(fh))"
      ],
      "execution_count": null,
      "outputs": []
    },
    {
      "cell_type": "markdown",
      "metadata": {
        "id": "m62-L2J8b4BX"
      },
      "source": [
        "### SARIMA(1, 1, 1)(1, 0, 0)[12]"
      ]
    },
    {
      "cell_type": "code",
      "metadata": {
        "id": "cNA1zpz4a-Dh"
      },
      "source": [
        "arima = ARIMA(order = (1, 1, 1), seasonal_order = (1, 0, 0, 12), suppress_warnings = True)\n",
        "arima.fit(ts_train['Sales'])\n",
        "fh = ForecastingHorizon(ts_test.index, is_relative=False)"
      ],
      "execution_count": null,
      "outputs": []
    },
    {
      "cell_type": "code",
      "metadata": {
        "id": "xVuUqZp5k2LS",
        "colab": {
          "base_uri": "https://localhost:8080/",
          "height": 604
        },
        "outputId": "545ae8ad-0b22-4c10-f8a4-4d564fb34c11"
      },
      "source": [
        "plot_fc(ts_train['Sales'], ts_test['Sales'], arima.predict(fh))"
      ],
      "execution_count": null,
      "outputs": []
    },
    {
      "cell_type": "markdown",
      "metadata": {
        "id": "E-bH0wpfbwou"
      },
      "source": [
        "### Auto-ARIMA"
      ]
    },
    {
      "cell_type": "code",
      "metadata": {
        "id": "jmnInfBObySJ"
      },
      "source": [
        "arima = AutoARIMA(sp = 12, suppress_warnings = True, information_criterion = 'aic', scoring = 'mae')\n",
        "arima.fit(ts_train['Sales'])\n",
        "fh = ForecastingHorizon(ts_test.index, is_relative=False)"
      ],
      "execution_count": null,
      "outputs": []
    },
    {
      "cell_type": "code",
      "metadata": {
        "colab": {
          "base_uri": "https://localhost:8080/",
          "height": 604
        },
        "id": "ADI3UwK2cHXG",
        "outputId": "63c743a1-454f-47f1-bdff-b3a423a86656"
      },
      "source": [
        "plot_fc(ts_train['Sales'], ts_test['Sales'], arima.predict(fh))"
      ],
      "execution_count": null,
      "outputs": []
    },
    {
      "cell_type": "markdown",
      "metadata": {
        "id": "L6ntN8cyiEQN"
      },
      "source": [
        "### ETS(AAA)"
      ]
    },
    {
      "cell_type": "code",
      "metadata": {
        "id": "3rZPu6X-myIH"
      },
      "source": [
        "ets = ExponentialSmoothing(trend = 'add', seasonal = 'add', sp = 12)\n",
        "ets.fit(ts_train['Sales'])\n",
        "fh = ForecastingHorizon(ts_test.index, is_relative=False)"
      ],
      "execution_count": null,
      "outputs": []
    },
    {
      "cell_type": "code",
      "metadata": {
        "colab": {
          "base_uri": "https://localhost:8080/",
          "height": 604
        },
        "id": "znUM7OyYiGWb",
        "outputId": "1c25ab47-0e95-487f-c0bc-7e21e849c9ce"
      },
      "source": [
        "plot_fc(ts_train['Sales'], ts_test['Sales'], ets.predict(fh))"
      ],
      "execution_count": null,
      "outputs": []
    },
    {
      "cell_type": "markdown",
      "metadata": {
        "id": "pVks3frjiGu_"
      },
      "source": [
        "### AutoETS"
      ]
    },
    {
      "cell_type": "code",
      "metadata": {
        "id": "lKphSJiDiJt8",
        "colab": {
          "base_uri": "https://localhost:8080/"
        },
        "outputId": "2232b9a0-20ce-445b-dc27-95aa4ff73097"
      },
      "source": [
        "ets = AutoETS(auto = True, sp = 12)\n",
        "ets.fit(ts_train['Sales'].astype(np.float64))\n",
        "fh = ForecastingHorizon(ts_test.index, is_relative=False)"
      ],
      "execution_count": null,
      "outputs": []
    },
    {
      "cell_type": "code",
      "metadata": {
        "colab": {
          "base_uri": "https://localhost:8080/",
          "height": 604
        },
        "id": "vJ5oys8wiJhA",
        "outputId": "cc996435-d8b6-4f59-967b-363e33a0a07e"
      },
      "source": [
        "plot_fc(ts_train['Sales'], ts_test['Sales'], ets.predict(fh))"
      ],
      "execution_count": null,
      "outputs": []
    },
    {
      "cell_type": "markdown",
      "metadata": {
        "id": "lvxp3k8JL3xW"
      },
      "source": [
        "## Кто на свете всех милее?\n",
        "\n",
        "Лучшая модель &mdash; ???"
      ]
    },
    {
      "cell_type": "code",
      "metadata": {
        "id": "TH9xwEfGNSXS"
      },
      "source": [
        "ets = ExponentialSmoothing(trend = 'add', seasonal = 'add', sp = 12)\n",
        "ets.fit(ts['Sales'])\n",
        "fh = ForecastingHorizon([i for i in range(1, 13)], is_relative=True)"
      ],
      "execution_count": null,
      "outputs": []
    },
    {
      "cell_type": "code",
      "metadata": {
        "colab": {
          "base_uri": "https://localhost:8080/",
          "height": 604
        },
        "id": "SwA162pKNWpS",
        "outputId": "bb9a3aea-ca88-4e3e-ca4d-b4372915767c"
      },
      "source": [
        "fig, ax = plt.subplots(1, figsize = (20, 10))\n",
        "\n",
        "ts['Sales'].plot(ax = ax, color = 'cornflowerblue', label = 'Train', linewidth = 1.7)\n",
        "ets.predict(fh).plot(ax = ax, color = 'mediumseagreen', linestyle = 'dashed', label = 'Forecast', linewidth = 1.7)\n",
        "ax.set(title = '', xlabel = 'Date', ylabel = 'Value')\n",
        "\n",
        "plt.legend()\n",
        "plt.show()"
      ],
      "execution_count": null,
      "outputs": []
    },
    {
      "cell_type": "markdown",
      "metadata": {
        "id": "K76naXOQCXVX"
      },
      "source": [
        "# Панельные данные\n",
        "\n",
        "## Хождение в народ\n",
        "\n",
        "- J60 &mdash; совокупный доход\n",
        "- J69_9C &mdash; год рождения\n",
        "\n",
        "\n"
      ]
    },
    {
      "cell_type": "code",
      "metadata": {
        "id": "O60Fag4RF1ze"
      },
      "source": [
        "panel = pd.read_stata('mydata2.dta').drop(columns = ['ID_W'])"
      ],
      "execution_count": null,
      "outputs": []
    },
    {
      "cell_type": "code",
      "execution_count": null,
      "metadata": {},
      "outputs": [],
      "source": [
        "panel = panel[~panel.J60.isin(['ЗАТРУДНЯЮСЬ ОТВЕТИТЬ', 'ОТКАЗ ОТ ОТВЕТА', 'НЕТ ОТВЕТА'])]\n",
        "panel = panel[~panel.J69_9C.isin(['ЗАТРУДНЯЮСЬ ОТВЕТИТЬ', 'ОТКАЗ ОТ ОТВЕТА', 'НЕТ ОТВЕТА'])]"
      ]
    },
    {
      "cell_type": "code",
      "execution_count": null,
      "metadata": {},
      "outputs": [],
      "source": [
        "panel.dropna(inplace=True)"
      ]
    },
    {
      "cell_type": "code",
      "execution_count": null,
      "metadata": {},
      "outputs": [],
      "source": [
        "panel['J69_9C'] = panel['J69_9C'].astype('object').astype(int)\n",
        "panel['J60'] = panel['J60'].astype('object').astype(np.float64)"
      ]
    },
    {
      "cell_type": "code",
      "metadata": {
        "id": "9y3bILr3GAho"
      },
      "source": [
        "panel['age'] = 2019 - panel['J69_9C']"
      ],
      "execution_count": null,
      "outputs": []
    },
    {
      "cell_type": "code",
      "execution_count": null,
      "metadata": {},
      "outputs": [],
      "source": [
        "panel['income'] = panel['J60']"
      ]
    },
    {
      "cell_type": "code",
      "metadata": {
        "colab": {
          "base_uri": "https://localhost:8080/",
          "height": 109
        },
        "id": "Eep-Nsm7GBHX",
        "outputId": "5bbb2b39-356f-4f1d-cd85-c9079c007a7e"
      },
      "source": [
        "panel = panel[['idind', 'year', 'age', 'income']]"
      ],
      "execution_count": null,
      "outputs": []
    },
    {
      "cell_type": "code",
      "execution_count": null,
      "metadata": {},
      "outputs": [],
      "source": [
        "panel['age2'] = np.square(panel['age'])\n",
        "panel['lnincome'] = np.log1p(panel['income'])"
      ]
    },
    {
      "cell_type": "code",
      "execution_count": null,
      "metadata": {},
      "outputs": [],
      "source": [
        "panel = panel[panel.income != 0]"
      ]
    },
    {
      "cell_type": "markdown",
      "metadata": {
        "id": "u08xsbjbG1rA"
      },
      "source": [
        "## Кому на Руси жить хорошо?\n",
        "\n",
        "Вопрос будет очень простой и очень бессмысленный: как влияет возраст на общий трудовой и нетрудовой доход? Чтобы не позориться, добавим еще квадрат возраста."
      ]
    },
    {
      "source": [
        "## Сделай красиво!"
      ],
      "cell_type": "markdown",
      "metadata": {
        "id": "b1g-GFHzGeT6"
      }
    },
    {
      "cell_type": "code",
      "execution_count": null,
      "metadata": {},
      "outputs": [],
      "source": [
        "fig, ax = plt.subplots(1, figsize = (20, 10))\n",
        "\n",
        "ax.plot(panel.age, panel.lnincome, 'o', color = 'lightcoral', alpha = .7)\n",
        "ax.set(title = 'Зависимость логарифма дохода индивида от возраста', xlabel = 'Возраст', ylabel = 'Доход')\n",
        "\n",
        "plt.show() # очень красиво."
      ]
    },
    {
      "source": [
        "## Три сестры"
      ],
      "cell_type": "markdown",
      "metadata": {}
    },
    {
      "cell_type": "code",
      "execution_count": null,
      "metadata": {},
      "outputs": [],
      "source": [
        "panel = panel.set_index(['idind', 'year'])"
      ]
    },
    {
      "cell_type": "code",
      "execution_count": null,
      "metadata": {},
      "outputs": [],
      "source": [
        "from linearmodels.panel.model import PooledOLS, RandomEffects, PanelOLS"
      ]
    },
    {
      "source": [
        "### Сквозная модель"
      ],
      "cell_type": "markdown",
      "metadata": {}
    },
    {
      "cell_type": "code",
      "execution_count": null,
      "metadata": {},
      "outputs": [],
      "source": [
        "mod = PooledOLS(panel.lnincome, panel[['age', 'age2']])\n",
        "mod = mod.fit()"
      ]
    },
    {
      "cell_type": "code",
      "execution_count": null,
      "metadata": {},
      "outputs": [],
      "source": [
        "def plot_vs_hat(model, data):\n",
        "    fig, ax = plt.subplots(1, figsize = (20, 10))\n",
        "\n",
        "    ax.plot(data.lnincome, model.predict(data[['age', 'age2']]).predictions, 'o', color = 'lightcoral', alpha = .7)\n",
        "    ax.set(title = 'Предсказания vs. реальные значения', xlabel = 'yhat', ylabel = 'y')\n",
        "\n",
        "    plt.show()\n"
      ]
    },
    {
      "cell_type": "code",
      "execution_count": null,
      "metadata": {},
      "outputs": [],
      "source": [
        "plot_vs_hat(mod, panel)"
      ]
    },
    {
      "source": [
        "### FE-модель"
      ],
      "cell_type": "markdown",
      "metadata": {}
    },
    {
      "cell_type": "code",
      "execution_count": null,
      "metadata": {},
      "outputs": [],
      "source": [
        "mod = PanelOLS(panel.lnincome, panel[['age', 'age2']])\n",
        "print(mod.fit())"
      ]
    },
    {
      "cell_type": "code",
      "execution_count": null,
      "metadata": {},
      "outputs": [],
      "source": []
    },
    {
      "source": [
        "### RE-модель"
      ],
      "cell_type": "markdown",
      "metadata": {}
    },
    {
      "cell_type": "code",
      "execution_count": null,
      "metadata": {},
      "outputs": [],
      "source": [
        "mod = RandomEffects(panel.lnincome, panel[['age', 'age2']])\n",
        "print(mod.fit())"
      ]
    },
    {
      "source": [
        "Как выбрать лучшую?"
      ],
      "cell_type": "markdown",
      "metadata": {}
    },
    {
      "cell_type": "code",
      "execution_count": null,
      "metadata": {},
      "outputs": [],
      "source": []
    }
  ]
}